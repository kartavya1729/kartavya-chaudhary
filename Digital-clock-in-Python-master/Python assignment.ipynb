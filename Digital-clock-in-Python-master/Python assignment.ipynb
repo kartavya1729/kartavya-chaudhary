{
 "cells": [
  {
   "cell_type": "code",
   "execution_count": null,
   "id": "cb773344",
   "metadata": {},
   "outputs": [],
   "source": [
    "from time import strftime\n",
    "from tkinter import Label, Tk\n",
    "\n",
    "# ======= Configuring window =========\n",
    "window = Tk()\n",
    "window.title(\"Current Date and Time\")\n",
    "window.geometry(\"1000x800\")\n",
    "window.configure(bg=\"grey\")  # =======Background of the clock=====\n",
    "window.resizable(False, False)  # =====setting a fixed window size =======\n",
    "\n",
    "clock_label = Label\n",
    "(\n",
    "    window, bg=\"black\", fg=\"cyan\", font=(\"Arial\", 30, \"bold\"), relief=\"flat\"\n",
    ")\n",
    "clock_label.place(x=800, y=800)\n",
    "\n",
    "\n",
    "def update_label():\n",
    "    \"\"\"\n",
    "    This function will update the clock\n",
    "\n",
    "    every 80 milliseconds\n",
    "    \"\"\"\n",
    "    current_time = strftime(\"%H: %M: %S\\n %d-%m-%Y \")\n",
    "    clock_label.configure(text=current_time)\n",
    "    clock_label.after(80, update_label)\n",
    "    clock_label.pack(anchor=\"center\")\n",
    "\n",
    "\n",
    "update_label()\n",
    "window.mainloop()\n"
   ]
  },
  {
   "cell_type": "code",
   "execution_count": null,
   "id": "736c4810",
   "metadata": {},
   "outputs": [],
   "source": []
  }
 ],
 "metadata": {
  "kernelspec": {
   "display_name": "Python 3 (ipykernel)",
   "language": "python",
   "name": "python3"
  },
  "language_info": {
   "codemirror_mode": {
    "name": "ipython",
    "version": 3
   },
   "file_extension": ".py",
   "mimetype": "text/x-python",
   "name": "python",
   "nbconvert_exporter": "python",
   "pygments_lexer": "ipython3",
   "version": "3.11.5"
  }
 },
 "nbformat": 4,
 "nbformat_minor": 5
}
